{
 "cells": [
  {
   "cell_type": "code",
   "execution_count": 1,
   "id": "171b00b3-2f2d-4dcc-9e81-3a849edf5a9b",
   "metadata": {},
   "outputs": [],
   "source": [
    "# 웹에서 데이터를 수집해 7종의 신발에 관한 정보를 모았습니다.\n",
    "# 차근차근 데이터 전처리를 시도해봅시다.\n",
    "\n",
    "name = ['Hoka Clifton 8', 'Brooks Adrenaline GTS 22',\n",
    "        'Ryka Women\\'s Devotion Plus 4 Walking Shoe',\n",
    "        'Nike Women\\'s Pegasus 39', 'Asics Gel-Excite 9',\n",
    "        'Hoka Women\\'s Bondi 8', 'Asics Women\\'s GT-2000 10 Running Shoes']\n",
    "material = ['Mesh', 'Recycled plastic bottle', 'mesh', 'MESH', 'Mesh', 'Mesh', 'Knit']\n",
    "weight = ['7.2 ounces', '10.2 ounces', '7.4 ounces',\n",
    "          '9.6 ounces', '7.7 ounces', '8.9 ounces', '8.4 ounces']\n",
    "price = ['$140', '$132', '$92', '$130', '$75', '$165', '$130']"
   ]
  },
  {
   "cell_type": "code",
   "execution_count": null,
   "id": "236a4325-b4ec-46a2-90a4-b9e22b2aa158",
   "metadata": {},
   "outputs": [],
   "source": [
    "'''\n",
    "### 조건\n",
    "\n",
    "1. `material` 리스트의 원소들을 소문자로 변경하기\n",
    "    - 소재는 크게 3종류의 데이터로 이루어져 있습니다. (범주형 변수)\n",
    "    하지만 메쉬 소재의 경우 `mesh` , `MESH` , `Mesh` 로 다양하게 표현되고 있습니다.\n",
    "    3가지의 표기법을 통일시켜 주어야 하겠네요!\n",
    "    \n",
    "2. `weight` 리스트의 ‘ounces’ 제거하고 숫자만 남기기\n",
    "    - 무게 정보는 숫자로 이루어져 있습니다. (연속형 변수)\n",
    "    하지만 수집한 데이터에서는 ‘ounces’라는 단위가 붙어 숫자 자료형으로 취급할 수 없는 상태입니다.\n",
    "    ‘ounces’를 제거하고 숫자만 남겨서 다루기 쉽게 변형시켜 봅시다.\n",
    "    \n",
    "3.  `price` 리스트의 ‘$’ 제거하고 숫자만 남기기\n",
    "    - 가격 정보도 마찬가지로 연속형 변수입니다. ‘$’를 제거하고 숫자만 남겨서 다루기 쉽게 변형시켜 봅시다.\n",
    "    \n",
    "4. `brand` 리스트 만들기\n",
    "    - 수집한 데이터로부터 다양한 데이터의 표현을 이끌어내는 것도 때로는 중요합니다.\n",
    "    현재 데이터에서는 이름 정보로부터 신발 브랜드를 추측할 수 있을 것 같습니다.\n",
    "    이름의 첫 번째 단어만 가지고 `brand` 라는 새로운 정보를 만들어 봅시다.\n",
    "'''"
   ]
  },
  {
   "cell_type": "code",
   "execution_count": 2,
   "id": "3543ed85-789c-4519-9c86-3871a5294cec",
   "metadata": {},
   "outputs": [
    {
     "name": "stdout",
     "output_type": "stream",
     "text": [
      "Material: ['mesh', 'recycled plastic bottle', 'mesh', 'mesh', 'mesh', 'mesh', 'knit']\n",
      "Weight: [7.2, 10.2, 7.4, 9.6, 7.7, 8.9, 8.4]\n",
      "Price: [140, 132, 92, 130, 75, 165, 130]\n",
      "Brand: ['Hoka', 'Brooks', 'Ryka', 'Nike', 'Asics', 'Hoka', 'Asics']\n"
     ]
    }
   ],
   "source": [
    "# 디폴트 데이터\n",
    "name = ['Hoka Clifton 8', 'Brooks Adrenaline GTS 22',\n",
    "        \"Ryka Women's Devotion Plus 4 Walking Shoe\",\n",
    "        \"Nike Women's Pegasus 39\", 'Asics Gel-Excite 9',\n",
    "        \"Hoka Women's Bondi 8\", \"Asics Women's GT-2000 10 Running Shoes\"]\n",
    "material = ['Mesh', 'Recycled plastic bottle', 'mesh', 'MESH', 'Mesh', 'Mesh', 'Knit']\n",
    "weight = ['7.2 ounces', '10.2 ounces', '7.4 ounces',\n",
    "          '9.6 ounces', '7.7 ounces', '8.9 ounces', '8.4 ounces']\n",
    "price = ['$140', '$132', '$92', '$130', '$75', '$165', '$130']\n",
    "\n",
    "# 1. `material` 리스트의 원소들을 소문자로 변경하기\n",
    "# .lower()를 사용하여 대문자를 모두 소문자로 바꿔줌\n",
    "material_filter = [m.lower() for m in material]\n",
    "\n",
    "# 2. `weight` 리스트의 ‘ounces’ 제거하고 숫자만 남기기\n",
    "# float()를 사용하여 문자열을 실수형으로 형변환\n",
    "# .replace()를 사용하여 괄호와 ounces를 제거함\n",
    "weight_filter = [float(w.replace(' ounces', '')) for w in weight]\n",
    "\n",
    "# 3. `price` 리스트의 ‘$’ 제거하고 숫자만 남기기\n",
    "# int()를 사용하여 문자열을 정수형으로 형변환\n",
    "price_filter = [int(p.replace('$', '')) for p in price]\n",
    "\n",
    "# 4. `brand` 리스트 만들기\n",
    "# .split()을 사용해 공백을 기준으로 리스트 생성 후 첫 번째 이름만 추출\n",
    "brand = [n.split()[0] for n in name]\n",
    "\n",
    "# 결과 출력\n",
    "print(\"Material:\", material_filter)\n",
    "print(\"Weight:\", weight_filter)\n",
    "print(\"Price:\", price_filter)\n",
    "print(\"Brand:\", brand)\n"
   ]
  },
  {
   "cell_type": "code",
   "execution_count": null,
   "id": "aa2442bf-85d8-41a2-9ab9-5c11ff1af0f6",
   "metadata": {},
   "outputs": [],
   "source": [
    "'''\n",
    "### step-up\n",
    "\n",
    "- 데이터가 여러 리스트로 흩어져 있으니 한 번에 다루기 불편합니다.\n",
    "    > 데이터를 딕셔너리로 바꾸어서 다뤄봅시다. (혹은 판다스 데이터프레임으로 다뤄봅시다.)\n",
    "- 신발을 가벼운 순서대로 확인하고 싶습니다.\n",
    "    > `weight` 에 대해 오름차순으로 정렬하고 가벼운 것부터 이름을 출력해봅시다.\n",
    "- 가격 순으로도 확인하고 싶습니다.\n",
    "    > `price` 에 대해 오름차순으로 정렬하고 저렴한 것부터 이름을 출력해봅시다.\n",
    "'''"
   ]
  },
  {
   "cell_type": "code",
   "execution_count": 3,
   "id": "dc25e020-7da8-4fca-adad-eb11af1aca7f",
   "metadata": {},
   "outputs": [
    {
     "name": "stdout",
     "output_type": "stream",
     "text": [
      "                                        name   brand                 material  \\\n",
      "0                             Hoka Clifton 8    Hoka                     mesh   \n",
      "1                   Brooks Adrenaline GTS 22  Brooks  recycled plastic bottle   \n",
      "2  Ryka Women's Devotion Plus 4 Walking Shoe    Ryka                     mesh   \n",
      "3                    Nike Women's Pegasus 39    Nike                     mesh   \n",
      "4                         Asics Gel-Excite 9   Asics                     mesh   \n",
      "5                       Hoka Women's Bondi 8    Hoka                     mesh   \n",
      "6     Asics Women's GT-2000 10 Running Shoes   Asics                     knit   \n",
      "\n",
      "   weight  price  \n",
      "0     7.2    140  \n",
      "1    10.2    132  \n",
      "2     7.4     92  \n",
      "3     9.6    130  \n",
      "4     7.7     75  \n",
      "5     8.9    165  \n",
      "6     8.4    130  \n",
      "🏃 가벼운 순서로 신발 이름:\n",
      "['Hoka Clifton 8', \"Ryka Women's Devotion Plus 4 Walking Shoe\", 'Asics Gel-Excite 9', \"Asics Women's GT-2000 10 Running Shoes\", \"Hoka Women's Bondi 8\", \"Nike Women's Pegasus 39\", 'Brooks Adrenaline GTS 22']\n",
      "💰 저렴한 순서로 신발 이름:\n",
      "['Asics Gel-Excite 9', \"Ryka Women's Devotion Plus 4 Walking Shoe\", \"Nike Women's Pegasus 39\", \"Asics Women's GT-2000 10 Running Shoes\", 'Brooks Adrenaline GTS 22', 'Hoka Clifton 8', \"Hoka Women's Bondi 8\"]\n"
     ]
    }
   ],
   "source": [
    "import pandas as pd  # 판다스 불러오기\n",
    "\n",
    "# 정제된 리스트들\n",
    "name = ['Hoka Clifton 8', 'Brooks Adrenaline GTS 22',\n",
    "        \"Ryka Women's Devotion Plus 4 Walking Shoe\",\n",
    "        \"Nike Women's Pegasus 39\", 'Asics Gel-Excite 9',\n",
    "        \"Hoka Women's Bondi 8\", \"Asics Women's GT-2000 10 Running Shoes\"]\n",
    "material = ['Mesh', 'Recycled plastic bottle', 'mesh', 'MESH', 'Mesh', 'Mesh', 'Knit']\n",
    "material_cleaned = [m.lower() for m in material]\n",
    "\n",
    "weight = ['7.2 ounces', '10.2 ounces', '7.4 ounces', '9.6 ounces', '7.7 ounces', '8.9 ounces', '8.4 ounces']\n",
    "weight_cleaned = [float(w.replace(' ounces', '')) for w in weight]\n",
    "\n",
    "price = ['$140', '$132', '$92', '$130', '$75', '$165', '$130']\n",
    "price_cleaned = [int(p.replace('$', '')) for p in price]\n",
    "\n",
    "brand = [n.split()[0] for n in name]\n",
    "\n",
    "# 딕셔너리를 만들어 DataFrame으로 변환\n",
    "data = pd.DataFrame({\n",
    "    'name': name,\n",
    "    'brand': brand,\n",
    "    'material': material_cleaned,\n",
    "    'weight': weight_cleaned,\n",
    "    'price': price_cleaned\n",
    "})\n",
    "\n",
    "# 데이터프레임 확인\n",
    "print(data)\n",
    "\n",
    "# weight 기준으로 오름차순 정렬\n",
    "sorted_by_weight = data.sort_values(by='weight', ascending=True)\n",
    "\n",
    "# 가벼운 순서대로 이름만 출력\n",
    "print(\"🏃 가벼운 순서로 신발 이름:\")\n",
    "print(sorted_by_weight['name'].to_list())\n",
    "\n",
    "# price 기준으로 오름차순 정렬\n",
    "sorted_by_price = data.sort_values(by='price', ascending=True)\n",
    "\n",
    "# 저렴한 순서대로 이름만 출력\n",
    "print(\"💰 저렴한 순서로 신발 이름:\")\n",
    "print(sorted_by_price['name'].to_list())"
   ]
  },
  {
   "cell_type": "code",
   "execution_count": null,
   "id": "35af27c8-f206-4bc4-8335-b1d94742d76b",
   "metadata": {},
   "outputs": [],
   "source": []
  }
 ],
 "metadata": {
  "kernelspec": {
   "display_name": "Python 3 (ipykernel)",
   "language": "python",
   "name": "python3"
  },
  "language_info": {
   "codemirror_mode": {
    "name": "ipython",
    "version": 3
   },
   "file_extension": ".py",
   "mimetype": "text/x-python",
   "name": "python",
   "nbconvert_exporter": "python",
   "pygments_lexer": "ipython3",
   "version": "3.10.11"
  }
 },
 "nbformat": 4,
 "nbformat_minor": 5
}
