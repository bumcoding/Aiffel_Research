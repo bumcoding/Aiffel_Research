{
 "cells": [
  {
   "cell_type": "code",
   "execution_count": null,
   "id": "21832ad9-2c6f-428f-bf7d-3a3d93375864",
   "metadata": {},
   "outputs": [],
   "source": [
    "'''\n",
    "### 리스트(list)와 넘파이 배열(ndarray) 비교하기\n",
    "\n",
    "- 파이썬 리스트 자료형은 수학적 계산을 하기에 매우 불리한 자료형입니다.\n",
    "- 리스트에 덧셈과 곱셈을 시도해보면 바로 알 수 있습니다!\n",
    "- 직접 행렬의 덧셈과 스칼라곱을 리스트와 넘파이 배열로 구현해보고 확인해봅시다.\n",
    "\n",
    "### 조건\n",
    "    \n",
    "두 행렬에 대해서 다음을 계산하는 코드를 리스트와 넘파이를 사용해서 각각 구현해 보세요. \n",
    "A = (1 2) B = (5 6)\n",
    "     3 4       7 8\n",
    "   \n",
    "- 1. A+B\n",
    "- 2. 2A\n",
    "'''\n"
   ]
  },
  {
   "cell_type": "code",
   "execution_count": 4,
   "id": "e994755b-47a0-48d4-9370-40bb3fab0354",
   "metadata": {},
   "outputs": [
    {
     "name": "stdout",
     "output_type": "stream",
     "text": [
      "[[6, 8], [10, 12]]\n",
      "[[2, 4], [6, 8]]\n"
     ]
    }
   ],
   "source": [
    "# 리스트로 행렬 정의\n",
    "A = [[1, 2], [3, 4]]\n",
    "B = [[5, 6], [7, 8]]\n",
    "\n",
    "# 1. A + B\n",
    "add = [\n",
    "    [A[i][j] + B[i][j] for j in range(len(A[0]))]\n",
    "    for i in range(len(A))\n",
    "]\n",
    "\n",
    "# 2. 2A\n",
    "mul = [\n",
    "    [2 * A[i][j] for j in range(len(A[0]))]\n",
    "    for i in range(len(A))\n",
    "]\n",
    "\n",
    "print(add)\n",
    "print(mul)"
   ]
  },
  {
   "cell_type": "code",
   "execution_count": 5,
   "id": "666c191f-2332-4ba9-8a3b-4c8b29fa4cf7",
   "metadata": {},
   "outputs": [
    {
     "name": "stdout",
     "output_type": "stream",
     "text": [
      "[[ 6  8]\n",
      " [10 12]]\n",
      "[[2 4]\n",
      " [6 8]]\n"
     ]
    }
   ],
   "source": [
    "# 넘파이는 패키지를 불러와야 사용가능\n",
    "import numpy as np\n",
    "\n",
    "# 넘파이 배열로 행렬 정의\n",
    "A = np.array([[1, 2], [3, 4]])\n",
    "B = np.array([[5, 6], [7, 8]])\n",
    "\n",
    "# 1. A + B\n",
    "add = A + B\n",
    "\n",
    "# 2. 2A\n",
    "mul = 2 * A\n",
    "\n",
    "print(add)\n",
    "print(mul)"
   ]
  },
  {
   "cell_type": "code",
   "execution_count": null,
   "id": "302add1b-a556-4111-adb0-feb6a70d8fbe",
   "metadata": {},
   "outputs": [],
   "source": [
    "'''\n",
    "### set-up\n",
    "\n",
    "- NumPy에는 연산을 위한 다양한 함수들을 제공하고 있어서 이것들을 조합하면 복잡한 함수도 간단하게 구현할 수 있습니다.\n",
    "- 머신러닝의 대표적인 손실함수인 MSE(MeanSquaredError)를 NumPy를 통해 구현해봅시다.\n",
    "'''"
   ]
  },
  {
   "cell_type": "code",
   "execution_count": 6,
   "id": "8edd394c-65c0-43bb-9f79-254d564154b1",
   "metadata": {},
   "outputs": [
    {
     "name": "stdout",
     "output_type": "stream",
     "text": [
      "1.6666666666666667\n"
     ]
    }
   ],
   "source": [
    "import numpy as np\n",
    "\n",
    "def mse(predictions, labels):\n",
    "    return np.mean((predictions - labels) ** 2)\n",
    "\n",
    "# 예시 데이터\n",
    "predictions = np.array([1, 1, 1])\n",
    "labels = np.array([1, 2, 3])\n",
    "\n",
    "# MSE 계산\n",
    "print(mse(predictions, labels))"
   ]
  },
  {
   "cell_type": "code",
   "execution_count": null,
   "id": "beb51c01-9411-435e-ade8-c75ce07fd4fc",
   "metadata": {},
   "outputs": [],
   "source": []
  }
 ],
 "metadata": {
  "kernelspec": {
   "display_name": "Python 3 (ipykernel)",
   "language": "python",
   "name": "python3"
  },
  "language_info": {
   "codemirror_mode": {
    "name": "ipython",
    "version": 3
   },
   "file_extension": ".py",
   "mimetype": "text/x-python",
   "name": "python",
   "nbconvert_exporter": "python",
   "pygments_lexer": "ipython3",
   "version": "3.10.11"
  }
 },
 "nbformat": 4,
 "nbformat_minor": 5
}
