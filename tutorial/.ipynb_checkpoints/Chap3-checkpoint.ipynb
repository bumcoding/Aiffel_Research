{
 "cells": [
  {
   "cell_type": "code",
   "execution_count": null,
   "id": "a4c5bcc8-a447-45e7-8a8a-c873e033e34f",
   "metadata": {},
   "outputs": [],
   "source": [
    "'''\n",
    "### 호그와트 마법 모자\n",
    "\n",
    "사용자로부터 이름, 나이, 성별을 입력받으면 기숙사를 랜덤 배정하는 마법모자 프로그램을 만들어봅시다.\n",
    "\n",
    "### 조건\n",
    "\n",
    "- 사람 클래스\n",
    "    - 이름, 나이, 성별이라는 정보(속성)을 가지고 있습니다.\n",
    "    - 소개라는 동작(메서드)도 가지고 있습니다. 소개라는 동작은 이름, 나이, 성별을 출력하는 기능을 합니다.\n",
    "    - 사람 클래스를 만들었으면 `해리포터, 18세, 남성` 이라는 속성을 가진 인스턴스를 생성해봅시다.\n",
    "    \n",
    "- 마법사 클래스\n",
    "    - 마법사 클래스는 사람 클래스를 상속받습니다.\n",
    "    - 추가적으로 기숙사(그리핀도르, 슬리데린, 래번클로, 후플푸프)의 속성을 가집니다.\n",
    "    - 마법사 클래스의 소개 메서드는 기숙사 정보까지 출력하도록 오버라이드 해주세요.\n",
    "    \n",
    "- 마법모자 프로그램\n",
    "    - 사용자로부터 이름, 나이, 성별을 입력 받아 기숙사를 랜덤 배정해서\n",
    "      마법사 인스턴스를 생성하는 마법 모자 프로그램을 만들어 봅시다.\n",
    "'''"
   ]
  },
  {
   "cell_type": "code",
   "execution_count": 4,
   "id": "a44734a2-8489-4db1-97be-bfa1baf6cd04",
   "metadata": {},
   "outputs": [
    {
     "name": "stdout",
     "output_type": "stream",
     "text": [
      "이름: 박범찬\n",
      "나이: 25세\n",
      "성별: 남성\n",
      "--- 마법모자 배정! ---\n"
     ]
    },
    {
     "name": "stdin",
     "output_type": "stream",
     "text": [
      "이름을 입력하세요:  박범찬\n",
      "나이를 입력하세요:  25\n",
      "성별을 입력하세요:  남자\n"
     ]
    },
    {
     "name": "stdout",
     "output_type": "stream",
     "text": [
      "박범찬는(은) ... 래번클로!\n"
     ]
    }
   ],
   "source": [
    "import random\n",
    "\n",
    "# 사람 클래스\n",
    "class Person:\n",
    "    def __init__(self, name, age, gender):\n",
    "        # 이름, 나이, 성별을 가지는 함수\n",
    "        self.name = name\n",
    "        self.age = age\n",
    "        self.gender = gender\n",
    "\n",
    "    def introduce(self):\n",
    "        # 이름, 나이, 성별을 소개하는 메서드\n",
    "        print(f\"이름: {self.name}\")\n",
    "        print(f\"나이: {self.age}\")\n",
    "        print(f\"성별: {self.gender}\")\n",
    "\n",
    "# 마법사 클래스 (사람을 상속함)\n",
    "class Wizard(Person):\n",
    "    def __init__(self, name, age, gender, dormitory):\n",
    "        # super()로 부모 클래스인 사람의 속성을 가져옴\n",
    "        super().__init__(name, age, gender)\n",
    "        # 기숙사 속성까지 추가\n",
    "        self.dormitory = dormitory\n",
    "\n",
    "    # introduce 메서드 오버라이드\n",
    "    def introduce(self):\n",
    "        # 부모 클래스의 소개를 마법사의 소개 방식으로 새로 정의\n",
    "        print(f\"{self.name}는(은) ... {self.dormitory}!\")\n",
    "\n",
    "# 마법모자 함수\n",
    "def magicHat():\n",
    "    dormitory = [\"그리핀도르\", \"슬리데린\", \"래번클로\", \"후플푸프\"]\n",
    "    \n",
    "    # 사용자에게 정보 입력\n",
    "    name = input(\"이름을 입력하세요: \")\n",
    "    age = input(\"나이를 입력하세요: \")\n",
    "    gender = input(\"성별을 입력하세요: \")\n",
    "    \n",
    "    # random.choice()를 통해 dormitory의 값 중 하나를 랜덤 배정\n",
    "    dormitory = random.choice(dormitory)\n",
    "\n",
    "    wizard = Wizard(name, age, gender, dormitory)\n",
    "    wizard.introduce()\n",
    "\n",
    "# 사용자 정보 입력 테스트\n",
    "test = Person(\"박범찬\", \"25세\", \"남성\")\n",
    "test.introduce()\n",
    "\n",
    "# 마법모자 코드 실행\n",
    "print(\"--- 마법모자 배정! ---\")\n",
    "magicHat()"
   ]
  },
  {
   "cell_type": "code",
   "execution_count": null,
   "id": "6ab53c8a-415a-4269-a8e2-5f55247830b7",
   "metadata": {},
   "outputs": [],
   "source": []
  }
 ],
 "metadata": {
  "kernelspec": {
   "display_name": "Python 3 (ipykernel)",
   "language": "python",
   "name": "python3"
  },
  "language_info": {
   "codemirror_mode": {
    "name": "ipython",
    "version": 3
   },
   "file_extension": ".py",
   "mimetype": "text/x-python",
   "name": "python",
   "nbconvert_exporter": "python",
   "pygments_lexer": "ipython3",
   "version": "3.10.11"
  }
 },
 "nbformat": 4,
 "nbformat_minor": 5
}
