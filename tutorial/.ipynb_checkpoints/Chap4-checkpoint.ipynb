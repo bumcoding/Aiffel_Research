{
 "cells": [
  {
   "cell_type": "code",
   "execution_count": null,
   "id": "8081bcc3-3e6f-4f7e-9f07-23a34824addf",
   "metadata": {},
   "outputs": [],
   "source": [
    "'''\n",
    "### 댓글 분석하기\n",
    "\n",
    "- 게시글에 달린 댓글들을 수집해서 댓글이 긍정적인 감정을 가지고 있는지, 부정적인 감정을 가지고 있는지 분석해보고자 합니다. \n",
    "- 그런데 수집된 댓글들이 너무 지저분해서 알아보기가 쉽지 않습니다.\n",
    "- 이 댓글들을 깔끔하게 정리하는 함수`preprocessing`를 만들어 봅시다.\n",
    "\n",
    "### 조건\n",
    "\n",
    "- 특수 기호는 모두 지우고 알파벳과 숫자만 남기기\n",
    "- 모두 소문자로 바꾸기\n",
    "- 중복된 공백 제거하고 공백을 하나만 남기기\n",
    "'''"
   ]
  },
  {
   "cell_type": "code",
   "execution_count": 1,
   "id": "ed42d636-30f5-4eca-aa74-e1f903b08704",
   "metadata": {},
   "outputs": [
    {
     "name": "stdout",
     "output_type": "stream",
     "text": [
      "wow this movie was amazing i couldnt believe how good the actors were the plot was so thrilling\n",
      "\n",
      "\n",
      "worst movie ever i cant believe i spent 15 on this the acting was horrible and the plot nonexistent do not recommend\n"
     ]
    }
   ],
   "source": [
    "# 정규표현식을 사용하여 텍스트 전처리\n",
    "import re\n",
    "\n",
    "def modify(text):\n",
    "    # re.sub(패턴, 대치할 문자, 적용)\n",
    "    # r : raw문자열로 특수문자를 있는 그대로 인식함\n",
    "    # ^ : 부정의 의미로 안에 있는 문자들을 제외하고 적용함 (알파벳, 숫자, 공백문자)\n",
    "    text = re.sub(r'[^a-zA-z0-9\\s]', '', text)\n",
    "    \n",
    "    # .lower()를 통해 대문자를 소문자로 변환\n",
    "    text = text.lower()\n",
    "    \n",
    "    # \\s에 +를 포함해서 하나 이상의 연속된 공백들을 한 번의 공백으로 변환\n",
    "    text = re.sub(r'\\s+', ' ', text).strip()\n",
    "    \n",
    "    # 줄 바꿈도 없앤다면 .split()도 사용 가능함\n",
    "    # text = ' '.join(text.split())\n",
    "    \n",
    "    return text\n",
    "\n",
    "word1 = \"WOW!! ThIs mOvIe...    was @@aMAZING@@!!     I couldn't BELIEVE how **good** the actors were.  The plot was    so~~ thrilling.\"\n",
    "word2 = \"Worst movie EVER!!!    I can't believe I spent $15 on this...    the acting was horrIBle, and the plot? non-existent!! :(  do NOT recommend.   :(\"\n",
    "\n",
    "text1 = modify(word1)\n",
    "text2 = modify(word2)\n",
    "\n",
    "print(text1)\n",
    "print(\"\\n\")\n",
    "print(text2)"
   ]
  },
  {
   "cell_type": "code",
   "execution_count": null,
   "id": "c5b19606-9cb2-4b86-92fa-3ba0cc2548c3",
   "metadata": {},
   "outputs": [],
   "source": [
    "'''\n",
    "### step-up\n",
    "\n",
    "아주 간단한 텍스트 분석 중 하나는, 해당 텍스트에 어떤 단어가 가장 많이 들어가 있는지 확인하는 것입니다.\n",
    "텍스트 내에서 각 단어가 몇 번씩 등장하는지 빈도수를 계산해 보세요!\n",
    "'''"
   ]
  },
  {
   "cell_type": "code",
   "execution_count": 2,
   "id": "cab74248-909d-44a6-958c-2f1f50fa8f32",
   "metadata": {},
   "outputs": [
    {
     "name": "stdout",
     "output_type": "stream",
     "text": [
      "📊 Message 1: [('was', 2), ('the', 2), ('wow', 1), ('this', 1), ('movie', 1)]\n",
      "📊 Message 2: [('i', 2), ('the', 2), ('worst', 1), ('movie', 1), ('ever', 1)]\n"
     ]
    }
   ],
   "source": [
    "import re\n",
    "from collections import Counter\n",
    "\n",
    "def preprocessing(text):\n",
    "    \"\"\"\n",
    "    텍스트에서 특수기호 제거, 소문자화, 중복 공백 제거를 수행합니다.\n",
    "    \"\"\"\n",
    "    text = text.lower()  # 소문자 변환\n",
    "    text = re.sub(r'[^a-zA-Z0-9\\s]', '', text)  # 알파벳, 숫자, 공백 제외 모두 제거\n",
    "    text = re.sub(r'\\s+', ' ', text).strip()  # 중복 공백 제거, 앞뒤 공백 제거\n",
    "    return text\n",
    "\n",
    "def word_frequencies(text):\n",
    "    \"\"\"\n",
    "    전처리된 텍스트에서 단어 빈도수를 계산해 딕셔너리 형태로 반환합니다.\n",
    "    \"\"\"\n",
    "    tokens = text.split()  # 공백 기준으로 단어 나누기\n",
    "    freq = Counter(tokens)  # 단어 빈도 계산\n",
    "    return freq\n",
    "\n",
    "# 🔽 테스트 예시\n",
    "message1 = \"WOW!! ThIs mOvIe...    was @@aMAZING@@!!     I couldn't BELIEVE how **good** the actors were.  The plot was    so~~ thrilling.\"\n",
    "message2 = \"Worst movie EVER!!!    I can't believe I spent $15 on this...    the acting was horrIBle, and the plot? non-existent!! :(  do NOT recommend.   :(\"\n",
    "\n",
    "# 전처리\n",
    "text1 = preprocessing(message1)\n",
    "text2 = preprocessing(message2)\n",
    "\n",
    "# 단어 빈도수 분석\n",
    "freq1 = word_frequencies(text1)\n",
    "freq2 = word_frequencies(text2)\n",
    "\n",
    "# 결과 출력 (상위 5개 단어)\n",
    "print(\"📊 Message 1:\", freq1.most_common(5))\n",
    "print(\"📊 Message 2:\", freq2.most_common(5))"
   ]
  },
  {
   "cell_type": "code",
   "execution_count": null,
   "id": "5f292b11-d888-41ca-9b7e-af5f8bd1862e",
   "metadata": {},
   "outputs": [],
   "source": []
  }
 ],
 "metadata": {
  "kernelspec": {
   "display_name": "Python 3 (ipykernel)",
   "language": "python",
   "name": "python3"
  },
  "language_info": {
   "codemirror_mode": {
    "name": "ipython",
    "version": 3
   },
   "file_extension": ".py",
   "mimetype": "text/x-python",
   "name": "python",
   "nbconvert_exporter": "python",
   "pygments_lexer": "ipython3",
   "version": "3.10.11"
  }
 },
 "nbformat": 4,
 "nbformat_minor": 5
}
