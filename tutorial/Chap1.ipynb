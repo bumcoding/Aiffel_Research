{
 "cells": [
  {
   "cell_type": "code",
   "execution_count": null,
   "id": "10735464-2f2d-494f-a4cf-7d205f77a500",
   "metadata": {},
   "outputs": [],
   "source": [
    "'''\n",
    "### 시험점수 관리하기\n",
    "\n",
    "-학생들이 국어, 영어, 수학, 사회, 과학의 5 과목에 대해서 시험을 치렀습니다. \n",
    "-학생의 이름과 각 과목의 성적을 입력 받아 관리하는 프로그램을 만들어봅시다.\n",
    "\n",
    "### 조건\n",
    "\n",
    "- 국어, 영어, 수학, 사회, 과학 점수를 사용자에게 입력 받습니다.\n",
    "- 최저 점수의 과목과 최고 점수의 과목, 그리고 5 과목의 평균 점수를 출력합니다. \n",
    "'''"
   ]
  },
  {
   "cell_type": "code",
   "execution_count": 31,
   "id": "9c74d405-f6e7-4141-bca3-fbe4a0ddbf51",
   "metadata": {},
   "outputs": [
    {
     "name": "stdin",
     "output_type": "stream",
     "text": [
      "성적을 입력하세요. (국어 영어 수학 사회 과학):\n",
      ">>>  20 30 40 50 60\n"
     ]
    },
    {
     "name": "stdout",
     "output_type": "stream",
     "text": [
      "최저 점수: 국어\n",
      "최고 점수: 과학\n",
      "평균 점수: 40.0\n"
     ]
    }
   ],
   "source": [
    "# 과목 리스트 생성\n",
    "subject = [\"국어\", \"영어\", \"수학\", \"사회\", \"과학\"]\n",
    "\n",
    "# split()으로 띄어쓰기마다 점수를 구분함\n",
    "# map()으로 입력받은 문자열을 값으로 형변환\n",
    "score_input = input(\"성적을 입력하세요. (국어 영어 수학 사회 과학):\\n>>> \")\n",
    "score_list = list(map(int, score_input.split(\" \")))\n",
    "\n",
    "# zip()으로 과목과 점수를 한 쌍으로 묶어줌\n",
    "# dict()으로 각 데이터를 딕셔너리 자료형으로 변환\n",
    "score = dict(zip(subject, score_list))\n",
    "# print(score)\n",
    "\n",
    "# max(), min()으로 최고점과 최저점 계산\n",
    "# 각 딕셔너리의 키값을 불러옴\n",
    "max_subject = max(score, key=score.get)\n",
    "min_subject = min(score, key=score.get)\n",
    "\n",
    "# 평균 계산\n",
    "avg_score = sum(score.values()) / len(score)\n",
    "\n",
    "# 결과 출력\n",
    "print(f\"최저 점수: {min_subject}\")\n",
    "print(f\"최고 점수: {max_subject}\")\n",
    "print(f\"평균 점수: {avg_score}\")"
   ]
  },
  {
   "cell_type": "code",
   "execution_count": null,
   "id": "feb21c9c-b202-4aeb-85f7-9fb982dea82f",
   "metadata": {},
   "outputs": [],
   "source": [
    "'''\n",
    "### step-up\n",
    "\n",
    "- 학생 이름을 key로, 시험 점수를 value로 갖는 딕셔너리로 정보를 저장해보세요.\n",
    "- 여러 명의 시험 점수를 입력 받아 저장해보세요.\n",
    "- 이름을 입력했을 때, 딕셔너리에 있는 이름이라면 최저 점수, 최고 점수, 평균 점수를 출력하는 함수 만들어보기\n",
    "\n",
    "'''"
   ]
  },
  {
   "cell_type": "code",
   "execution_count": 20,
   "id": "92dee344-0042-459a-91ed-8a73d79728cf",
   "metadata": {},
   "outputs": [
    {
     "name": "stdin",
     "output_type": "stream",
     "text": [
      "학생 수를 입력하세요:  3\n",
      "\n",
      "학생 이름을 입력하세요:  박범찬\n",
      "성적을 입력하세요. (국어 영어 수학 사회 과학):  20 30 40 50 60\n",
      "\n",
      "학생 이름을 입력하세요:  정글\n",
      "성적을 입력하세요. (국어 영어 수학 사회 과학):  30 40 50 60 70\n",
      "\n",
      "학생 이름을 입력하세요:  미드\n",
      "성적을 입력하세요. (국어 영어 수학 사회 과학):  40 50 60 70 80\n",
      "\n",
      "조회할 학생 이름을 입력하세요 (종료하려면 '종료' 입력):  박범찬\n"
     ]
    },
    {
     "name": "stdout",
     "output_type": "stream",
     "text": [
      "최고 점수: 과학\n",
      "최저 점수: 국어\n",
      "평균 점수: 40.0\n"
     ]
    },
    {
     "name": "stdin",
     "output_type": "stream",
     "text": [
      "\n",
      "조회할 학생 이름을 입력하세요 (종료하려면 '종료' 입력):  종료\n"
     ]
    }
   ],
   "source": [
    "def get_student_report(student_score, name):\n",
    "    if name in student_score:\n",
    "        subject = [\"국어\", \"영어\", \"수학\", \"사회\", \"과학\"]\n",
    "        score = student_score[name]\n",
    "\n",
    "        # 점수 분석\n",
    "        max_subject = subject[score.index(max(scores))]\n",
    "        min_subject = subject[score.index(min(scores))]\n",
    "        avg_score = sum(score) / len(score)\n",
    "        \n",
    "        # 결과 출력\n",
    "        print(f\"최고 점수: {max_subject}\")\n",
    "        print(f\"최저 점수: {min_subject}\")\n",
    "        print(f\"평균 점수: {avg_score:.1f}\")\n",
    "    else:\n",
    "        print(\"해당 학생의 정보가 없습니다.\")\n",
    "\n",
    "# -------------------------\n",
    "# 데이터 입력 단계\n",
    "\n",
    "student_scores = {}  # 전체 학생 성적 딕셔너리\n",
    "\n",
    "num_students = int(input(\"학생 수를 입력하세요: \"))\n",
    "\n",
    "for _ in range(num_students):\n",
    "    name = input(\"\\n학생 이름을 입력하세요: \")\n",
    "    scores_input = input(\"성적을 입력하세요. (국어 영어 수학 사회 과학): \")\n",
    "    score_list = list(map(int, scores_input.split()))\n",
    "    student_scores[name] = score_list\n",
    "\n",
    "# -------------------------\n",
    "# 학생 성적 조회\n",
    "\n",
    "while True:\n",
    "    query_name = input(\"\\n조회할 학생 이름을 입력하세요 (종료하려면 'q' 입력): \")\n",
    "    if query_name == \"q\":\n",
    "        break\n",
    "    get_student_report(student_scores, query_name)\n"
   ]
  },
  {
   "cell_type": "code",
   "execution_count": null,
   "id": "d62c9e60-dd69-42f3-8c85-eff28b22ebd5",
   "metadata": {},
   "outputs": [],
   "source": []
  }
 ],
 "metadata": {
  "kernelspec": {
   "display_name": "Python 3 (ipykernel)",
   "language": "python",
   "name": "python3"
  },
  "language_info": {
   "codemirror_mode": {
    "name": "ipython",
    "version": 3
   },
   "file_extension": ".py",
   "mimetype": "text/x-python",
   "name": "python",
   "nbconvert_exporter": "python",
   "pygments_lexer": "ipython3",
   "version": "3.10.11"
  }
 },
 "nbformat": 4,
 "nbformat_minor": 5
}
