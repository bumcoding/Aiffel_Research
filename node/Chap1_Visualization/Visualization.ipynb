{
 "cells": [
  {
   "cell_type": "code",
   "execution_count": null,
   "id": "6ed21cb8-1773-413c-b24d-8a1a58cf1a32",
   "metadata": {},
   "outputs": [],
   "source": [
    "'''\n",
    "파이썬으로 그래프를 그린다는건?\n",
    "도화지를 펼치고 축을 그리고 그 안에 데이터를 그리는 작업\n",
    "\n",
    "현실 세계에서 그래프를 그릴 때 어떻게 하나요? 노트를 펴서 사각형을 그리고, x, y축을 그리고, 그 안에 데이터를 입력하지요?\n",
    "파이썬으로 그래프를 그리는 작업도 현실 세계와 비슷합니다.\n",
    "'''\n",
    "\n",
    "import matplotlib.pyplot as plt\n",
    "%matplotlib inline\n",
    "\n",
    "# 그래프 데이터\n",
    "subject = ['English', 'Math', 'Korean', 'Science', 'Computer']\n",
    "points = [40, 90, 50, 60, 100]\n",
    "\n",
    "# 축 그리기\n",
    "fig = plt.figure()\n",
    "ax1 = fig.add_subplot(1,1,1)\n",
    "\n",
    "# 그래프 그리기\n",
    "ax1.bar(subject, points)\n",
    "\n",
    "# 라벨, 타이틀 달기\n",
    "plt.xlabel('Subject')\n",
    "plt.ylabel('Points')\n",
    "plt.title(\"Yuna's Test Result\")\n",
    "\n",
    "# 보여주기\n",
    "plt.savefig('./barplot.png')  # 그래프를 이미지로 출력\n",
    "plt.show()                    # 그래프를 화면으로 출력"
   ]
  },
  {
   "cell_type": "code",
   "execution_count": null,
   "id": "9ce0896d-e093-4a60-bde5-9ab765dff233",
   "metadata": {},
   "outputs": [],
   "source": [
    "from datetime import datetime\n",
    "import pandas as pd\n",
    "import os\n",
    "\n",
    "# 그래프 데이터\n",
    "csv_path = \"/Users/bumchanpark/Desktop/Aiffel_Research/node/Chap1_Data visualization/AMZN.csv\"\n",
    "data = pd.read_csv(csv_path, index_col=0, parse_dates=True)\n",
    "price = data['Close']\n",
    "\n",
    "# 축 그리기 및 좌표축 설정\n",
    "fig = plt.figure()\n",
    "ax = fig.add_subplot(1,1,1)\n",
    "price.plot(ax=ax, style='black')\n",
    "plt.ylim([1600, 2200])\n",
    "plt.xlim(['2019-05-01', '2020-03-01'])\n",
    "\n",
    "# 주석달기\n",
    "important_data = [(datetime(2019, 6, 3), \"Low Price\"), (datetime(2020, 2, 19), \"Peak Price\")]\n",
    "for d, label in important_data:\n",
    "    ax.annotate(label, xy=(d, price.asof(d)+10), # 주석을 달 좌표(x,y)\n",
    "                xytext=(d, price.asof(d)+100), # 주석 텍스트가 위치할 좌표(x,y)\n",
    "                arrowprops=dict(facecolor='red')) # 화살표 추가 및 색 설정\n",
    "\n",
    "# 그리드, 타이틀 달기\n",
    "plt.grid()\n",
    "ax.set_title('StockPrice')\n",
    "\n",
    "# 보여주기\n",
    "plt.show()"
   ]
  },
  {
   "cell_type": "code",
   "execution_count": null,
   "id": "08e8cc8f-ecf5-4581-95e9-d4713c0837a3",
   "metadata": {},
   "outputs": [],
   "source": [
    "'''\n",
    "Pandas Series 데이터 활용\n",
    "\n",
    "Pandas의 Series는 선 그래프를 그리기에 최적의 자료구조를 갖추고 있습니다.\n",
    "위 예시 코드에서는 price = data['Close']가 바로 Pandas의 Series입니다.\n",
    "다음 스텝에서 좀 더 설명하겠지만, Pandas도 자체적인 선 그래프 그리기 기능을 제공합니다.\n",
    "위 예시 코드에서는 price.plot(ax=ax, style='black')에서 Pandas의 plot을 사용하면서,\n",
    "matplotlib에서 정의한 subplot 공간 ax를 사용한 것을 볼 수 있습니다.\n",
    "\n",
    "좌표축 설정\n",
    "plt.xlim(), plt.ylim()을 통해 x, y 좌표축의 적당한 범위를 설정해 줄 수 있습니다.\n",
    "\n",
    "\n",
    "주석\n",
    "그래프 안에 추가적으로 글자나 화살표 등 주석을 그릴 때는 annotate() 메서드를 이용합니다.\n",
    "주석달기는 그래프 그리기의 고급 기법입니다. 복잡하지만 위 예시 코드를 잘 살펴봐 주세요.\n",
    "\n",
    "\n",
    "그리드\n",
    "grid() 메서드를 이용하면 그리드(격자눈금)를 추가할 수 있어요.\n",
    "'''\n",
    "\n",
    "# Q. 날짜별 종가(Close)가 아닌 최고가(High) 데이터를 이용해서 위와 같은 그래프를 그려보세요!\n",
    "# 그래프 데이터\n",
    "csv_path = \"/Users/bumchanpark/Desktop/Aiffel_Research/node/Chap1_Data visualization/AMZN.csv\"\n",
    "\n",
    "data = pd.read_csv(csv_path, index_col=0, parse_dates=True)\n",
    "price = data['High']\n",
    "\n",
    "# 축 그리기 및 좌표축 설정\n",
    "fig = plt.figure()\n",
    "ax = fig.add_subplot(1,1,1)\n",
    "price.plot(ax=ax, style='black')\n",
    "plt.ylim([1600, 2200])\n",
    "plt.xlim(['2019-05-01', '2020-03-01'])\n",
    "\n",
    "# 날짜 정보를 python datetime 자료형으로 변환\n",
    "min_date = price.idxmin().to_pydatetime()\n",
    "max_date = price.idxmax().to_pydatetime()\n",
    "\n",
    "# 주석달기\n",
    "important_data = [(min_date, \"Low Price\"), (max_date, \"Peak Price\")]\n",
    "important_data = [(datetime(2019, 6, 3), \"Low Price\"), (datetime(2020, 2, 19), \"Peak Price\")]\n",
    "for d, label in important_data:\n",
    "    ax.annotate(label, xy=(d, price.asof(d)+10), # 주석을 달 좌표(x,y)\n",
    "                xytext=(d, price.asof(d)+100), # 주석 텍스트가 위치할 좌표(x,y)\n",
    "                arrowprops=dict(facecolor='red')) # 화살표 추가 및 색 설정\n",
    "\n",
    "# 그리드, 타이틀 달기\n",
    "plt.grid()\n",
    "ax.set_title('StockPrice')\n",
    "\n",
    "# 보여주기\n",
    "plt.show()"
   ]
  },
  {
   "cell_type": "code",
   "execution_count": null,
   "id": "07799872-c5b7-4f55-a710-506f672cf15c",
   "metadata": {},
   "outputs": [],
   "source": [
    "'''\n",
    "5. 간단한 그래프 그리기 (3) plot 사용법 상세\n",
    "plt.plot()로 그래프 그리기\n",
    "앞에서 figure() 객체를 생성하고 add_subplot()으로 서브플롯을 생성한 다음 plot을 그린다고 했습니다.\n",
    "이 2가지 과정을 생략할 수도 있는데요,\n",
    "plt.plot() 함수로 그래프를 그리면 matplotlib은 가장 최근의 figure 객체와 그 서브플롯을 그립니다.\n",
    "\n",
    "만약 서브플롯이 없으면 서브플롯 하나를 생성합니다.\n",
    "\n",
    "plt.plot()의 인자로 x 데이터, y 데이터, 마커 옵션, 색상 등을 지정할 수 있고,\n",
    "'''\n",
    "\n",
    "import numpy as np\n",
    "\n",
    "# 0에서 10까지 균등한 간격으로 100개의 숫자를 만들라는 뜻입니다.\n",
    "x = np.linspace(0, 10, 100)\n",
    "\n",
    "plt.plot(x, np.sin(x), 'o')\n",
    "plt.plot(x, np.cos(x), '--', color='black')\n",
    "plt.show()"
   ]
  },
  {
   "cell_type": "code",
   "execution_count": null,
   "id": "92006a64-102b-4374-90ff-853150805a7e",
   "metadata": {},
   "outputs": [],
   "source": [
    "'''\n",
    "서브플롯도 plt.subplot()을 이용해 추가할 수 있어요.\n",
    "'''\n",
    "\n",
    "x = np.linspace(0, 10, 100)\n",
    "\n",
    "plt.subplot(2,1,1)\n",
    "plt.plot(x, np.sin(x), 'o', color='orange')\n",
    "\n",
    "plt.subplot(2,1,2)\n",
    "plt.plot(x, np.cos(x), 'orange')\n",
    "plt.show()"
   ]
  },
  {
   "cell_type": "code",
   "execution_count": null,
   "id": "45d35fdc-7d20-4507-b893-7ab5ba7b1040",
   "metadata": {},
   "outputs": [],
   "source": [
    "'''\n",
    "linestyle, marker 옵션\n",
    "라인 스타일은 plot()의 인자로 들어가는데요, 아래와 같이 다양한 방법으로 표기할 수 있습니다.\n",
    "'''\n",
    "\n",
    "x = np.linspace(0, 10, 100)\n",
    "\n",
    "plt.plot(x, x + 0, linestyle='solid')\n",
    "plt.plot(x, x + 1, linestyle='dashed')\n",
    "plt.plot(x, x + 2, linestyle='dashdot')\n",
    "plt.plot(x, x + 3, linestyle='dotted')\n",
    "plt.plot(x, x + 0, '-g') # solid green\n",
    "plt.plot(x, x + 1, '--c') # dashed cyan\n",
    "plt.plot(x, x + 2, '-.k') # dashdot black\n",
    "plt.plot(x, x + 3, ':r'); # dotted red\n",
    "plt.plot(x, x + 4, linestyle='-') # solid\n",
    "plt.plot(x, x + 5, linestyle='--') # dashed\n",
    "plt.plot(x, x + 6, linestyle='-.') # dashdot\n",
    "plt.plot(x, x + 7, linestyle=':'); # dotted"
   ]
  },
  {
   "cell_type": "code",
   "execution_count": null,
   "id": "3a5ed7ef-8b76-4814-b27c-7526e933490a",
   "metadata": {},
   "outputs": [],
   "source": [
    "'''\n",
    "Pandas로 그래프 그리기\n",
    "Pandas도 plot() 메서드를 통해 여러 가지 그래프를 그릴 수 있습니다.\n",
    "\n",
    "matplotlib과 연계해 사용하면 좋은데요, 아래에 각 메서드의 기능을 정리하였습니다.\n",
    "\n",
    "\n",
    "\n",
    "pandas.plot 메서드 인자\n",
    "\n",
    "label: 그래프의 범례 이름\n",
    "ax: 그래프를 그릴 matplotlib의 서브플롯 객체\n",
    "style: matplotlib에 전달할 'ko--'같은 스타일의 문자열\n",
    "alpha: 투명도 (0 ~ 1)\n",
    "kind: 그래프의 종류: line, bar, barh, kde\n",
    "logy: Y축에 대한 로그 스케일\n",
    "use_index: 객체의 색인을 눈금 이름으로 사용할지의 여부\n",
    "rot: 눈금 이름을 로테이션(0 ~ 360)\n",
    "xticks, yticks: x축, y축으로 사용할 값\n",
    "xlim, ylim: x축, y축 한계\n",
    "grid: 축의 그리드 표시할지 여부\n",
    "\n",
    "pandas의 data가 DataFrame 일 때 plot 메서드 인자\n",
    "\n",
    "subplots: 각 DataFrame의 칼럼(column)을 독립된 서브플롯에 그립니다.\n",
    "sharex: subplots=True면 같은 X축을 공유하고 축의 범위와 눈금을 연결합니다.\n",
    "sharey: subplots=True면 같은 Y축을 공유합니다.\n",
    "figsize: 그래프의 크기를 지정합니다. (튜플)\n",
    "title: 그래프의 제목을 지정합니다. (문자열)\n",
    "sort_columns: 칼럼을 알파벳 순서로 그립니다.\n",
    "\n",
    "예제로 막대그래프를 그려 볼게요.\n",
    "\n",
    "막대그래프의 경우, kind에 bar 옵션을 주어 그릴 수 있습니다.\n",
    "'''\n",
    "\n",
    "fig, axes = plt.subplots(2, 1)\n",
    "data = pd.Series(np.random.rand(5), index=list('abcde'))\n",
    "data.plot(kind='bar', ax=axes[0], color='blue', alpha=1)\n",
    "data.plot(kind='barh', ax=axes[1], color='red', alpha=0.3)\n",
    "plt.show()"
   ]
  },
  {
   "cell_type": "code",
   "execution_count": null,
   "id": "c484b1d9-c1e4-4b3f-9df0-850f79ab5ae7",
   "metadata": {},
   "outputs": [],
   "source": [
    "'''\n",
    "선 그래프도 그리는 방법은 비슷합니다.\n",
    "'''\n",
    "\n",
    "df = pd.DataFrame(np.random.rand(6,4), columns=pd.Index(['A','B','C','D']))\n",
    "df.plot(kind='line')\n",
    "plt.show()"
   ]
  },
  {
   "cell_type": "code",
   "execution_count": null,
   "id": "64894d42-443d-4407-a3da-788d3c6e52d8",
   "metadata": {},
   "outputs": [],
   "source": [
    "'''\n",
    "6. 간단한 그래프 그리기 (4) 정리해 보자\n",
    "정리\n",
    "그래프를 그리는 과정을 다시 정리해 봅시다.\n",
    "\n",
    "fig = plt.figure(): figure 객체를 선언해 '도화지를 펼쳐'줍니다.\n",
    "ax1 = fig.add_subplot(1,1,1): 축을 그립니다.\n",
    "ax1.bar(x, y) 축 안에 어떤 그래프를 그릴지 메서드를 선택한 다음, 인자로 데이터를 넣어줍니다.\n",
    "그래프 타이틀 축의 레이블 등을 plt의 여러 메서드 grid, xlabel, ylabel 을 이용해서 추가해 주고\n",
    "plt.savefig 메서드를 이용해 저장해줍니다.\n",
    "어떤가요? 현실 세계에서 그래프를 그리는 순서와 유사하지 않나요? 꽤 직관적입니다.\n",
    "파이썬 기반의 시각화 라이브러리인 Pandas, Matplotlib, Seaborn 모두 이런 식으로 그래프를 그립니다.\n",
    "\n",
    "\n",
    "아래 그림은 각 그래프 요소별 명칭입니다. 눈에 익혀 두세요.\n",
    "'''\n",
    "\n",
    "'''\n",
    "7. 그래프 4대 천왕 (1) 데이터 준비\n",
    "앞에서 그래프 그리는 방법에 대한 큰 틀을 배웠습니다! 이제 자주 사용되는 그래프를 직접 그려보며 연습해 봅시다.\n",
    "\n",
    "데이터 준비\n",
    "1) 데이터 불러오기\n",
    "Seaborn의 load_dataset() 메서드를 이용하면 API를 통해 손쉽게 유명한 예제 데이터를 다운로드할 수 있습니다.\n",
    "참고로, 아래 repo의 데이터는 모두 csv 파일로 되어있어 연습용으로 좋아요.\n",
    "\n",
    "https://github.com/mwaskom/seaborn-data\n",
    "\n",
    "메서드를 실행하면 home directory에 자동으로 seaborn-data라는 폴더가 생성되어 다운로드한 데이터가 내부에 저장됩니다.\n",
    "\n",
    "default directory: ~/seaborn-data/ (~(물결표시)는 home directory를 의미합니다.😃)\n",
    "'''\n",
    "import pandas as pd\n",
    "import seaborn as sns\n",
    "\n",
    "tips = sns.load_dataset(\"tips\")"
   ]
  },
  {
   "cell_type": "code",
   "execution_count": null,
   "id": "b0c37660-e4b1-4c51-86d6-ad4843ead34f",
   "metadata": {},
   "outputs": [],
   "source": [
    "'''\n",
    "2) 데이터 살펴보기 (EDA)\n",
    "Pandas의 dataframe을 이용해서 데이터가 어떻게 구성되어 있는지 확인하겠습니다.\n",
    "실행 후 결과를 살펴볼까요?\n",
    "'''\n",
    "\n",
    "df = pd.DataFrame(tips)\n",
    "df.head()"
   ]
  },
  {
   "cell_type": "code",
   "execution_count": null,
   "id": "9e00a7a3-69d8-406d-8858-7b70f39cb5a9",
   "metadata": {},
   "outputs": [],
   "source": [
    "# dataframe의 shape(row, column의 개수)\n",
    "df.shape"
   ]
  },
  {
   "cell_type": "code",
   "execution_count": null,
   "id": "0fb66e48-0dcf-47db-84da-9486aae48cab",
   "metadata": {},
   "outputs": [],
   "source": [
    "# 데이터의 통계량 정보를 보여줍니다. (평균, 표준편차, 사분위수 등)\n",
    "df.describe()"
   ]
  },
  {
   "cell_type": "code",
   "execution_count": null,
   "id": "58757a07-e16e-4c92-ae45-db8c59704760",
   "metadata": {},
   "outputs": [],
   "source": [
    "# 각 column의 정보를 보여줍니다. (데이터 크기와 자료형 등)\n",
    "df.info()"
   ]
  },
  {
   "cell_type": "code",
   "execution_count": null,
   "id": "5e6eb6c8-2c12-4d2a-8bea-3d923f62ee69",
   "metadata": {},
   "outputs": [],
   "source": [
    "'''\n",
    "본 데이터에는 결측 값이 없어서 결측 값 처리가 따로 필요하지 않네요.\n",
    "\n",
    "데이터 변수들 중에서 sex, smoker, day, time이 범주(category)형 데이터고 tips, total_bill, size는 수치형 데이터입니다.\n",
    "그러나 size는 테이블 인원을 의미하니까 범주형 데이터로 봐야겠네요.\n",
    "\n",
    "범주형 변수의 카테고리별 개수를 알아볼까요?\n",
    "'''\n",
    "\n",
    "# Q. 다음 코드의 빈칸을 채워주세요.\n",
    "\n",
    "# 'sex' 변수의 카테고리별 개수\n",
    "print(df['sex'].value_counts())\n",
    "\n",
    "print(\"===========================\")\n",
    "\n",
    "# 'time' 변수의 카테고리별 개수\n",
    "# [[YOUR CODE]]\n",
    "print(df['time'].value_counts())\n",
    "\n",
    "print(\"===========================\")\n",
    "\n",
    "# 'smoker' 변수의 카테고리별 개수\n",
    "# [[YOUR CODE]]\n",
    "print(df['smoker'].value_counts())\n",
    "\n",
    "print(\"===========================\")\n",
    "\n",
    "# 'day' 변수의 카테고리별 개수\n",
    "# [[YOUR CODE]]\n",
    "print(df['day'].value_counts())\n",
    "\n",
    "print(\"===========================\")\n",
    "\n",
    "# 'size' 변수의 카테고리별 개수\n",
    "# [[YOUR CODE]]\n",
    "print(df['size'].value_counts())\n",
    "\n",
    "print(\"===========================\")"
   ]
  },
  {
   "cell_type": "code",
   "execution_count": null,
   "id": "c5726512-d4e6-4e53-b2d7-ac2499c0d459",
   "metadata": {},
   "outputs": [],
   "source": [
    "'''\n",
    "8. 그래프 4대 천왕 (2) 범주형 데이터\n",
    "데이터가 준비되었으니 그래프를 그려보겠습니다.\n",
    "\n",
    "앞서 데이터를 살펴본 결과, 범주형 변수와 수치형 변수가 있다는 것을 알 수 있었는데요.\n",
    "\n",
    "변수 데이터를 시각화할 때 데이터 종류에 따라 사용하는 그래프가 다르다는 걸 알고 계시나요?\n",
    "\n",
    "지금부터 범주형, 수치형 순으로 총 4개의 그래프를 살펴보겠습니다.\n",
    "\n",
    "범주형 데이터\n",
    "범주형 데이터는 주로 막대그래프를 사용하여 수치를 요약합니다. 일반적으로 가로, 세로, 누적, 그룹화된 막대그래프를 사용합니다.\n",
    "\n",
    "tips 데이터에서 범주형 변수는 sex, smoker, day, time, size입니다.\n",
    "\n",
    "1) 막대그래프(bar graph)\n",
    "1-1) Pandas와 Matplotlib를 활용한 방법\n",
    "우선 조금 복잡한 방법부터 알아보겠습니다.\n",
    "\n",
    "matplotlib에 데이터를 인자로 넣기 위해선 pandas 데이터를 바로 이용할 수는 없습니다.\n",
    "데이터를 x에 series 또는 list, y에 list 형태로 각각 나눠주어야 합니다.\n",
    "\n",
    "실행 되었습니다.\n",
    "'''\n",
    "\n",
    "# df의 첫 5행을 확인해봅시다.\n",
    "df.head()"
   ]
  },
  {
   "cell_type": "code",
   "execution_count": null,
   "id": "8f800d52-2cd2-4e80-b02a-9362cbaed14a",
   "metadata": {},
   "outputs": [],
   "source": [
    "'''\n",
    "tip 컬럼을 성별에 대한 평균으로 나타내 보겠습니다.\n",
    "pandas의 groupby 메서드를 활용합니다.\n",
    "'''\n",
    "\n",
    "grouped = df['tip'].groupby(df['sex'], observed=False)"
   ]
  },
  {
   "cell_type": "code",
   "execution_count": null,
   "id": "28387d6d-ee3a-44e8-bea6-c2169af6d9ac",
   "metadata": {},
   "outputs": [],
   "source": [
    "'''\n",
    "어떤가요? 코드를 해석해 보면, df['tip'] 컬럼을 groupby() 한다는 뜻입니다. groupby()의 인자는 sex를 넣어 주었습니다.\n",
    "이렇게 하면 각 성별 그룹에 대한 정보(총합, 평균, 데이터 량 등)가 grouped 객체에 저장됩니다.\n",
    "\n",
    "아래 코드와 같이 평균과 데이터 량을 확인 할 수 있습니다.\n",
    "'''\n",
    "\n",
    "grouped.mean() # 성별에 따른 팁의 평균"
   ]
  },
  {
   "cell_type": "code",
   "execution_count": null,
   "id": "bfe81704-179a-453e-9bad-7f096e58c7c5",
   "metadata": {},
   "outputs": [],
   "source": [
    "grouped.size() # 성별에 따른 데이터 량(팁 횟수)"
   ]
  },
  {
   "cell_type": "code",
   "execution_count": null,
   "id": "da74157b-3e9c-4deb-b435-326df9d6fbd9",
   "metadata": {},
   "outputs": [],
   "source": [
    "'''\n",
    "이제 성별에 따른 팁 액수의 평균을 막대그래프로 나타내 보겠습니다.\n",
    "'''\n",
    "\n",
    "import numpy as np\n",
    "sex = dict(grouped.mean()) #평균 데이터를 딕셔너리 형태로 바꿔줍니다.\n",
    "sex"
   ]
  },
  {
   "cell_type": "code",
   "execution_count": null,
   "id": "2453511b-5689-422f-8a22-ee44fe3c2a05",
   "metadata": {},
   "outputs": [],
   "source": [
    "x = list(sex.keys())\n",
    "x"
   ]
  },
  {
   "cell_type": "code",
   "execution_count": null,
   "id": "68c5e979-faa3-4173-ba69-812e885260e7",
   "metadata": {},
   "outputs": [],
   "source": [
    "y = list(sex.values())\n",
    "y"
   ]
  },
  {
   "cell_type": "code",
   "execution_count": null,
   "id": "6797df10-d6e7-4d85-bdcf-98d15ece903e",
   "metadata": {},
   "outputs": [],
   "source": [
    "import matplotlib.pyplot as plt\n",
    "\n",
    "plt.bar(x = x, height = y)\n",
    "plt.ylabel('tip[$]')\n",
    "plt.title('Tip by Sex')"
   ]
  },
  {
   "cell_type": "code",
   "execution_count": null,
   "id": "be9a1125-de9f-4a6a-acb3-746c4d31b6f1",
   "metadata": {},
   "outputs": [],
   "source": [
    "# Q. 요일(day)에 따른 평균 tip의 그래프를 그려보세요.\n",
    "\n",
    "grouped = df['tip'].groupby(df['day'], observed=False)\n",
    "day = dict(grouped.mean())\n",
    "x = list(day.keys())\n",
    "y = list(day.values())\n",
    "plt.bar(x = x, height = y)\n",
    "\n",
    "plt.ylabel('tip[$]')\n",
    "plt.title('Tip by Day')\n",
    "plt.show()"
   ]
  },
  {
   "cell_type": "code",
   "execution_count": null,
   "id": "140a79e2-0f10-4210-b630-bdb1e753b95f",
   "metadata": {},
   "outputs": [],
   "source": [
    "'''\n",
    "1-2) Seaborn과 Matplotlib을 활용한 간단한 방법\n",
    "Seaborn을 이용하면 더 쉽게 나타낼 수 있습니다.\n",
    "sns.barplot의 인자로 df를 넣고 원하는 컬럼을 지정해 주면 아래와 같이 성별에 대한 tip 평균을 볼 수 있습니다.\n",
    "'''\n",
    "\n",
    "sns.barplot(data=df, x='sex', y='tip')"
   ]
  },
  {
   "cell_type": "code",
   "execution_count": null,
   "id": "c70599af-a920-4ddf-b912-3ce4d6b277a6",
   "metadata": {},
   "outputs": [],
   "source": [
    "'''\n",
    "Matplot과 함께 사용하여 figsize, title을 정하는 등 그래프에 다양한 옵션을 넣을 수도 있어요.\n",
    "'''\n",
    "\n",
    "plt.figure(figsize=(10,6)) # 도화지 사이즈를 정합니다.\n",
    "sns.barplot(data=df, x='sex', y='tip')\n",
    "plt.ylim(0, 4) # y값의 범위를 정합니다.\n",
    "plt.title('Tip by sex') # 그래프 제목을 정합니다."
   ]
  },
  {
   "cell_type": "code",
   "execution_count": null,
   "id": "ea958653-dbe0-44dd-9fe9-03046d3f5eb5",
   "metadata": {},
   "outputs": [],
   "source": [
    "'''\n",
    "아래는 요일에 따른 tips의 그래프입니다.\n",
    "'''\n",
    "\n",
    "plt.figure(figsize=(10,6))\n",
    "sns.barplot(data=df, x='day', y='tip')\n",
    "plt.ylim(0, 4)\n",
    "plt.title('Tip by day')"
   ]
  },
  {
   "cell_type": "code",
   "execution_count": null,
   "id": "36593af4-5992-4808-87ee-df369dae6d35",
   "metadata": {},
   "outputs": [],
   "source": [
    "'''\n",
    "Subplot을 활용할 수도 있고, 범주형 그래프를 나타내기에 좋은 violin plot을 사용할 수도 있습니다.\n",
    "palette 옵션을 주어 더 예쁜 색상을 사용할 수도 있어요.\n",
    "'''\n",
    "\n",
    "fig = plt.figure(figsize=(10,7))\n",
    "\n",
    "ax1 = fig.add_subplot(2,2,1)\n",
    "sns.barplot(data=df, x='day', y='tip', palette=\"ch:.25\")\n",
    "\n",
    "ax2 = fig.add_subplot(2,2,2)\n",
    "sns.barplot(data=df, x='sex', y='tip')\n",
    "\n",
    "ax3 = fig.add_subplot(2,2,4)\n",
    "sns.violinplot(data=df, x='sex', y='tip')\n",
    "\n",
    "ax4 = fig.add_subplot(2,2,3)\n",
    "sns.violinplot(data=df, x='day', y='tip', palette=\"ch:.25\")"
   ]
  },
  {
   "cell_type": "code",
   "execution_count": null,
   "id": "e48d01e2-862f-4d69-b04d-9d4ddcb9a334",
   "metadata": {},
   "outputs": [],
   "source": [
    "'''\n",
    "catplot을 사용하여 나타낼 수도 있습니다.\n",
    "'''\n",
    "\n",
    "sns.catplot(x=\"day\", y=\"tip\", jitter=False, data=tips)"
   ]
  },
  {
   "cell_type": "code",
   "execution_count": null,
   "id": "c54454bc-2be7-4eb3-b574-921a070d7447",
   "metadata": {},
   "outputs": [],
   "source": [
    "# Q. 시간대(time)에 따른 tips의 그래프를 catplot으로 표현해보세요!\n",
    "sns.catplot(x=\"time\", y=\"tip\", jitter=False, data=tips)"
   ]
  },
  {
   "cell_type": "code",
   "execution_count": null,
   "id": "c0dd14be-8dfe-4c2f-9bd8-0c17f82b9a66",
   "metadata": {},
   "outputs": [],
   "source": [
    "'''\n",
    "9. 그래프 4대 천왕 (3) 수치형 데이터\n",
    "수치형 데이터\n",
    "수치형 데이터를 나타내는 데 가장 좋은 그래프는 산점도 혹은 선 그래프입니다.\n",
    "전체 음식 가격(total_bill)에 따른 tip 데이터를 시각화하며 산점도와 선 그래프를 배워봅시다.\n",
    "\n",
    "2) 산점도(scatter plot)\n",
    "hue인자에 'day'를 주어 요일(day)에 따른 tip과 total_bill의 관계를 시각화해 봅시다.\n",
    "'''\n",
    "\n",
    "sns.scatterplot(data=df, x='total_bill', y='tip', palette=\"ch:r=-.2,d=.3_r\")"
   ]
  },
  {
   "cell_type": "code",
   "execution_count": null,
   "id": "858b9c1f-8b90-49ba-bb22-776741c3ba33",
   "metadata": {},
   "outputs": [],
   "source": [
    "sns.scatterplot(data=df, x='total_bill', y='tip', hue='day')"
   ]
  },
  {
   "cell_type": "code",
   "execution_count": null,
   "id": "c44d9be6-9471-42a8-af92-2cc2f7109549",
   "metadata": {},
   "outputs": [],
   "source": [
    "'''\n",
    "3) 선 그래프(line graph)\n",
    "plot의 기본은 선 그래프입니다.\n",
    "tips 예제로는 선 그래프 설명이 어려워서, numpy를 이용하여 데이터를 생성 후 그래프를 그려보겠습니다.\n",
    "'''\n",
    "\n",
    "# np.random.randn 함수는 표준 정규분포에서 난수를 생성하는 함수입니다.\n",
    "# cumsum()은 누적합을 구하는 함수입니다.\n",
    "plt.plot(np.random.randn(50).cumsum())\n",
    "plt.show()"
   ]
  },
  {
   "cell_type": "code",
   "execution_count": null,
   "id": "7f4691df-8889-448a-b836-629420057ae1",
   "metadata": {},
   "outputs": [],
   "source": [
    "'''\n",
    "앞 스텝에서 plt.plot() 함수의 예제로 설명했던 그래프도 선 그래프입니다.\n",
    "'''\n",
    "\n",
    "x = np.linspace(0, 10, 100)\n",
    "plt.plot(x, np.sin(x), 'o')\n",
    "plt.plot(x, np.cos(x))\n",
    "plt.show()"
   ]
  },
  {
   "cell_type": "code",
   "execution_count": null,
   "id": "4a5b40e9-77be-4cca-8d7b-098147a1947e",
   "metadata": {},
   "outputs": [],
   "source": [
    "'''\n",
    "Seaborn을 활용하면 다음과 같이 그릴 수 있습니다.\n",
    "'''\n",
    "\n",
    "sns.lineplot(x=x, y=np.sin(x))\n",
    "sns.lineplot(x=x, y=np.cos(x))"
   ]
  },
  {
   "cell_type": "code",
   "execution_count": null,
   "id": "5ba0b20a-dce3-471e-b7bc-d44f99f5762c",
   "metadata": {},
   "outputs": [],
   "source": [
    "'''\n",
    "4) 히스토그램\n",
    "먼저 히스토그램의 개념 정리 한 번 하도록 할게요.\n",
    "히스토그램은 도수분포표를 그래프로 나타낸 것입니다. 히스토그램의 용어는 다음과 같습니다.\n",
    "\n",
    "↔ 가로축\n",
    "계급: 변수의 구간, bin (or bucket)\n",
    "\n",
    "↕ 세로축\n",
    "도수: 빈도수, frequency\n",
    "전체 총량: n\n",
    "\n",
    "다음과 같은 데이터의 히스토그램을 만들어보겠습니다.\n",
    "\n",
    "x1은 평균은 100이고 표준편차는 15인 정규분포를 따릅니다.\n",
    "x2는 평균은 130이고 표준편차는 15인 정규분포를 따릅니다.\n",
    "도수를 50개의 구간으로 표시하며, 확률 밀도가 아닌 빈도로 표기합니다.\n",
    "'''\n",
    "\n",
    "#그래프 데이터\n",
    "mu1, mu2, sigma = 100, 130, 15\n",
    "x1 = mu1 + sigma*np.random.randn(10000)\n",
    "x2 = mu2 + sigma*np.random.randn(10000)\n",
    "\n",
    "# 축 그리기\n",
    "fig = plt.figure()\n",
    "ax1 = fig.add_subplot(1,1,1)\n",
    "\n",
    "# 그래프 그리기\n",
    "patches = ax1.hist(x1, bins=50, density=False)  # bins는 x값을 총 50개 구간으로 나눈다는 뜻입니다.\n",
    "patches = ax1.hist(x2, bins=50, density=False, alpha=0.5)\n",
    "ax1.xaxis.set_ticks_position('bottom')  # x축의 눈금을 아래 표시\n",
    "ax1.yaxis.set_ticks_position('left')  # y축의 눈금을 왼쪽에 표시\n",
    "\n",
    "# 라벨, 타이틀 달기\n",
    "plt.xlabel('Bins')\n",
    "plt.ylabel('Number of Values in Bin')\n",
    "ax1.set_title('Two Frequency Distributions')\n",
    "\n",
    "# 보여주기\n",
    "plt.show()"
   ]
  },
  {
   "cell_type": "code",
   "execution_count": null,
   "id": "371f2add-6f8c-4e51-95e8-9f50d14b112b",
   "metadata": {},
   "outputs": [],
   "source": [
    "'''\n",
    "예제 데이터의 히스토그램\n",
    "조금 복습이 되셨나요? 다시 예제의 tips 데이터로 돌아가서 tips 데이터의 total_bill과 tips에 대해 히스토그램을 만들어 보겠습니다.\n",
    "'''\n",
    "\n",
    "sns.histplot(df['total_bill'], label=\"total_bill\")\n",
    "\n",
    "# legend()를 이용하여 label을 표시해줍니다.\n",
    "sns.histplot(df['tip'], label=\"tip\").legend()"
   ]
  },
  {
   "cell_type": "code",
   "execution_count": null,
   "id": "7a8f48a5-a122-4a4f-9da4-268682188b03",
   "metadata": {},
   "outputs": [],
   "source": [
    "'''\n",
    "전체 결제 금액 대비 팁의 비율을 나타내는 히스토그램을 그려보겠습니다.\n",
    "'''\n",
    "\n",
    "# Q. pyplot을 이용해서 그려봅시다.\n",
    "# bin의 개수는 50개로 지정해주세요.\n",
    "df['tip_pct'] = df['tip'] / df['total_bill'] # [[YOUR CODE]]\n",
    "\n",
    "fig = plt.figure()\n",
    "ax1 = fig.add_subplot(1,1,1)\n",
    "patches = ax1.hist(df['tip_pct'], bins=50, density=False)\n",
    "ax1.xaxis.set_ticks_position('bottom')\n",
    "ax1.yaxis.set_ticks_position('left')\n",
    "plt.xlabel('total_bill')\n",
    "plt.ylabel('tips')\n",
    "ax1.set_title('tip_pct')"
   ]
  },
  {
   "cell_type": "code",
   "execution_count": null,
   "id": "34dea5da-8e90-4b72-9d97-89c8cc001306",
   "metadata": {},
   "outputs": [],
   "source": [
    "# Q. 이번에는 seaborn을 이용해서 그려봅시다.\n",
    "sns.histplot(df['tip_pct'], label=\"tip_pct\").legend()"
   ]
  },
  {
   "cell_type": "code",
   "execution_count": null,
   "id": "64069041-3279-43ae-b078-dcea6a436de5",
   "metadata": {},
   "outputs": [],
   "source": [
    "'''\n",
    "kind='kde'로 확률 밀도 그래프로 나타내 보았습니다.\n",
    "밀도 그래프: 연속된 확률분포를 나타냅니다.\n",
    "\n",
    "일반적으로는 kernels메서드를 섞어서 이 분포를 근사하는 식으로 그립니다.\n",
    "이것은 좀 더 단순하고 우리에게 친숙한 정규분포(가우시안)로 나타낼 수 있습니다.\n",
    "위 밀도 그래프는 KDE(Kernel Density Estimate) 커널 밀도 추정 그래프입니다\n",
    "'''\n",
    "\n",
    "df['tip_pct'].plot(kind='kde')"
   ]
  },
  {
   "cell_type": "code",
   "execution_count": null,
   "id": "a7c8af5e-c6bc-4a5c-876d-78edc2229ad7",
   "metadata": {},
   "outputs": [],
   "source": [
    "'''\n",
    "10. 시계열 데이터 시각화하기\n",
    "우리 주위에는 시계열 데이터가 정말 많습니다.\n",
    "\n",
    "이번에는 1949년-1960년도별 탑승객 예제 데이터를 가지고 시계열 데이터를 다루어 보도록 하겠습니다.\n",
    "\n",
    "1) 데이터 가져오기\n",
    "클라우드에 업로드되어있는 데이터를 이용하셔도 좋고 Seaborn의 load_dataset() 메서드를 이용하셔도 좋습니다.\n",
    "'''\n",
    "\n",
    "csv_path = \"/Users/bumchanpark/Desktop/Aiffel_Research/node/5. Data visualization/flights.csv\"\n",
    "data = pd.read_csv(csv_path)\n",
    "flights = pd.DataFrame(data)\n",
    "flights"
   ]
  },
  {
   "cell_type": "code",
   "execution_count": null,
   "id": "ac4876ec-53e8-4a99-8b44-635dadcb191e",
   "metadata": {},
   "outputs": [],
   "source": [
    "'''\n",
    "데이터는 아주 간단하네요. 연도의 각 월별로 탑승객 수를 보여주고 있습니다.\n",
    "\n",
    "2) 그래프 그리기\n",
    "'''\n",
    "\n",
    "# seaborn barplot\n",
    "sns.barplot(data=flights, x='year', y='passengers')"
   ]
  },
  {
   "cell_type": "code",
   "execution_count": null,
   "id": "2640172f-c567-403c-9cb8-0d208464fefb",
   "metadata": {},
   "outputs": [],
   "source": [
    "# Q. seaborn pointplot을 그려봅시다.\n",
    "sns.pointplot(data=flights, x=\"year\", y=\"passengers\")"
   ]
  },
  {
   "cell_type": "code",
   "execution_count": null,
   "id": "5f8a07a3-6d94-4b33-889a-90e063b9e981",
   "metadata": {},
   "outputs": [],
   "source": [
    "# Q. seaborn lineplot을 그려봅시다.\n",
    "sns.lineplot(data=flights, x=\"year\", y=\"passengers\")"
   ]
  },
  {
   "cell_type": "code",
   "execution_count": null,
   "id": "a960a7ee-1d13-42a9-8f94-580d241fcd5e",
   "metadata": {},
   "outputs": [],
   "source": [
    "'''\n",
    "달별로 나누어 보기 위해 hue 인자에 'month'를 할당합니다.\n",
    "'''\n",
    "\n",
    "sns.lineplot(data=flights, x='year', y='passengers', hue='month', palette='ch:.50')\n",
    "plt.legend(bbox_to_anchor=(1.03, 1), loc=2) #legend 그래프 밖에 추가하기"
   ]
  },
  {
   "cell_type": "code",
   "execution_count": null,
   "id": "cce11606-2947-464e-bc17-fee3100e4e92",
   "metadata": {},
   "outputs": [],
   "source": [
    "sns.histplot(flights['passengers'])"
   ]
  },
  {
   "cell_type": "code",
   "execution_count": null,
   "id": "ca69f3ea-add5-48c2-a06a-595c6cc324bb",
   "metadata": {},
   "outputs": [],
   "source": [
    "'''\n",
    "11. Heatmap\n",
    "Heatmap\n",
    "Heatmap은 방대한 양의 데이터와 현상을 수치에 따른 색상으로 나타내는 것으로, 데이터 차원에 대한 제한은 없으나 모두 2차원으로 시각화하여 표현합니다.\n",
    "\n",
    "예제 데이터의 연도와 달에 대해 탑승객 수를 heatmap으로 나타내보겠습니다.\n",
    "\n",
    "❗ 잠깐만! pivot\n",
    "Heatmap을 그리기 위해 데이터를 pivot 해야 하는 경우가 있습니다.\n",
    "pivot이란 어떤 축, 점을 기준으로 바꾸다란 뜻입니다. 데이터 표를 재배치할 때도 pivot이라는 단어를 사용합니다.\n",
    "(엑셀, Database에도 등장하는 용어입니다.)\n",
    "\n",
    "pandas의 dataframe의 pivot() 메서드를 사용합니다.\n",
    "flights(DataFrame)을 탑승객 수를 year과 month로 pivot 해보겠습니다.\n",
    "'''\n",
    "\n",
    "pivot = flights.pivot(index='year', columns='month', values='passengers')\n",
    "pivot"
   ]
  },
  {
   "cell_type": "code",
   "execution_count": null,
   "id": "766d41b2-1d19-443f-b0c6-11f53fb38e0c",
   "metadata": {},
   "outputs": [],
   "source": [
    "sns.heatmap(pivot)"
   ]
  },
  {
   "cell_type": "code",
   "execution_count": null,
   "id": "3d4365a4-c604-495b-955e-5d1f300bf9cc",
   "metadata": {},
   "outputs": [],
   "source": [
    "'''\n",
    "다양한 옵션을 줄 수 있습니다.\n",
    "'''\n",
    "\n",
    "sns.heatmap(pivot, linewidths=.2, annot=True, fmt=\"d\")"
   ]
  },
  {
   "cell_type": "code",
   "execution_count": null,
   "id": "4c399ef3-b0e5-46ce-9600-1d0e1ea9da61",
   "metadata": {},
   "outputs": [],
   "source": [
    "# Q. cmap 인자를 \"YlGnBu\"로 지정하여 heatmap을 그려보세요!\n",
    "sns.heatmap(pivot, cmap=\"YlGnBu\")"
   ]
  },
  {
   "cell_type": "code",
   "execution_count": null,
   "id": "5b79b98a-4cc6-44e5-9f84-9cb3c1529002",
   "metadata": {},
   "outputs": [],
   "source": [
    "'''\n",
    "종합퀴즈\n",
    "'''\n",
    "\n",
    "import numpy as np\n",
    "import pandas as pd\n",
    "import seaborn as sns\n",
    "import matplotlib.pyplot as plt\n",
    "%matplotlib inline\n",
    "\n",
    "tips = sns.load_dataset(\"tips\")"
   ]
  },
  {
   "cell_type": "code",
   "execution_count": null,
   "id": "2712846c-c32f-4fd4-8fec-3bf019e2cdcd",
   "metadata": {},
   "outputs": [],
   "source": [
    "# Q. 시간대(time)에 따른 tip과 total_bill의 관계를 scatter plot으로 시각화해봅시다.\n",
    "sns.scatterplot(data=tips, x=\"total_bill\", y='tip')"
   ]
  },
  {
   "cell_type": "code",
   "execution_count": null,
   "id": "0d7e6183-a7d6-4711-8cef-49bdd7ad72f8",
   "metadata": {},
   "outputs": [],
   "source": [
    "# Q. seaborn jointplot의 문서를 참고하여 아래와 같은 그래프를 그려보세요!\n",
    "sns.jointplot(\n",
    "    data=tips,\n",
    "    x=\"total_bill\",\n",
    "    y=\"tip\",\n",
    "    hue=\"time\",\n",
    "    kind=\"scatter\",\n",
    ")"
   ]
  },
  {
   "cell_type": "code",
   "execution_count": null,
   "id": "abc0c90e-e205-4c14-bece-2627c5279c16",
   "metadata": {},
   "outputs": [],
   "source": []
  }
 ],
 "metadata": {
  "kernelspec": {
   "display_name": "Python 3 (ipykernel)",
   "language": "python",
   "name": "python3"
  },
  "language_info": {
   "codemirror_mode": {
    "name": "ipython",
    "version": 3
   },
   "file_extension": ".py",
   "mimetype": "text/x-python",
   "name": "python",
   "nbconvert_exporter": "python",
   "pygments_lexer": "ipython3",
   "version": "3.10.11"
  }
 },
 "nbformat": 4,
 "nbformat_minor": 5
}
